{
 "cells": [
  {
   "cell_type": "markdown",
   "metadata": {},
   "source": [
    "### House Price (linear regression)\n",
    "#### Problem statement\n",
    "Using the set of some basic attributes that are related to the price of the house, predict the sale price for a new house using Linear Regression.\n",
    "\n",
    "Let’s get started to make a prediction with a rich dataset on housing prices from Ames, Iowa. Each row in the dataset describes the properties of a single house as well as the amount it was sold for. In this concept, we'll build models that predict the final sale price of a house based on its other attributes. The original data set contains 82 features and 2930 data points.You can read more about this dataset here."
   ]
  },
  {
   "cell_type": "markdown",
   "metadata": {},
   "source": [
    "* ExterQual (Ordinal): Evaluates the quality of the material on the exterior\n",
    "(5: Excellent, 4: Good, 3: Average/Typical, 2: Fair, 1: Poor)\n",
    "\n",
    "* AllFlrsSF(Continuous): Total square feet for 1st and 2nd floor combined\n",
    "* GrLivArea (Continuous): Above grade (ground) living area square feet\n",
    "* SimplOverallCond (Ordinal): Rates the overall condition of the house\n",
    "(1: Bad, 2: Average, 3: Good)\n",
    "\n",
    "* Garage Area (Continuous): Size of garage in square feet\n",
    "* TotRmsAbvGrd (Nominal): Total rooms above grade (does not include bathrooms)\n",
    "* LotFrontage (Continuous): Linear feet of street connected to property\n",
    "* price"
   ]
  },
  {
   "cell_type": "code",
   "execution_count": 11,
   "metadata": {},
   "outputs": [],
   "source": [
    "# import packages\n",
    "import pandas as pd\n",
    "import numpy as np\n",
    "import matplotlib.pyplot as plt\n",
    "from sklearn.linear_model import LinearRegression \n",
    "from sklearn.metrics import mean_absolute_error"
   ]
  },
  {
   "cell_type": "code",
   "execution_count": 45,
   "metadata": {},
   "outputs": [],
   "source": [
    "from sklearn.metrics import mean_squared_error\n",
    "import math\n",
    "from sklearn.metrics import r2_score"
   ]
  },
  {
   "cell_type": "code",
   "execution_count": 3,
   "metadata": {},
   "outputs": [],
   "source": [
    "# read data\n",
    "train = pd.read_csv(\"ames_train.csv\")\n",
    "test = pd.read_csv(\"ames_test.csv\")"
   ]
  },
  {
   "cell_type": "code",
   "execution_count": 13,
   "metadata": {},
   "outputs": [
    {
     "name": "stdout",
     "output_type": "stream",
     "text": [
      "(1092, 8)\n"
     ]
    },
    {
     "data": {
      "text/html": [
       "<div>\n",
       "<style scoped>\n",
       "    .dataframe tbody tr th:only-of-type {\n",
       "        vertical-align: middle;\n",
       "    }\n",
       "\n",
       "    .dataframe tbody tr th {\n",
       "        vertical-align: top;\n",
       "    }\n",
       "\n",
       "    .dataframe thead th {\n",
       "        text-align: right;\n",
       "    }\n",
       "</style>\n",
       "<table border=\"1\" class=\"dataframe\">\n",
       "  <thead>\n",
       "    <tr style=\"text-align: right;\">\n",
       "      <th></th>\n",
       "      <th>ExterQual</th>\n",
       "      <th>AllFlrsSF</th>\n",
       "      <th>GrLivArea</th>\n",
       "      <th>SimplOverallCond</th>\n",
       "      <th>GarageArea</th>\n",
       "      <th>TotRmsAbvGrd</th>\n",
       "      <th>LotFrontage</th>\n",
       "      <th>SalePrice</th>\n",
       "    </tr>\n",
       "  </thead>\n",
       "  <tbody>\n",
       "    <tr>\n",
       "      <th>0</th>\n",
       "      <td>4</td>\n",
       "      <td>1316</td>\n",
       "      <td>1316</td>\n",
       "      <td>2</td>\n",
       "      <td>397</td>\n",
       "      <td>6</td>\n",
       "      <td>65.0</td>\n",
       "      <td>169990</td>\n",
       "    </tr>\n",
       "    <tr>\n",
       "      <th>1</th>\n",
       "      <td>4</td>\n",
       "      <td>2028</td>\n",
       "      <td>2028</td>\n",
       "      <td>2</td>\n",
       "      <td>880</td>\n",
       "      <td>7</td>\n",
       "      <td>88.0</td>\n",
       "      <td>369900</td>\n",
       "    </tr>\n",
       "    <tr>\n",
       "      <th>2</th>\n",
       "      <td>3</td>\n",
       "      <td>1072</td>\n",
       "      <td>1072</td>\n",
       "      <td>2</td>\n",
       "      <td>525</td>\n",
       "      <td>5</td>\n",
       "      <td>35.0</td>\n",
       "      <td>140000</td>\n",
       "    </tr>\n",
       "    <tr>\n",
       "      <th>3</th>\n",
       "      <td>3</td>\n",
       "      <td>1048</td>\n",
       "      <td>1048</td>\n",
       "      <td>2</td>\n",
       "      <td>286</td>\n",
       "      <td>6</td>\n",
       "      <td>72.0</td>\n",
       "      <td>135000</td>\n",
       "    </tr>\n",
       "    <tr>\n",
       "      <th>4</th>\n",
       "      <td>3</td>\n",
       "      <td>1779</td>\n",
       "      <td>1779</td>\n",
       "      <td>2</td>\n",
       "      <td>546</td>\n",
       "      <td>6</td>\n",
       "      <td>80.0</td>\n",
       "      <td>197900</td>\n",
       "    </tr>\n",
       "  </tbody>\n",
       "</table>\n",
       "</div>"
      ],
      "text/plain": [
       "   ExterQual  AllFlrsSF  GrLivArea  SimplOverallCond  GarageArea  \\\n",
       "0          4       1316       1316                 2         397   \n",
       "1          4       2028       2028                 2         880   \n",
       "2          3       1072       1072                 2         525   \n",
       "3          3       1048       1048                 2         286   \n",
       "4          3       1779       1779                 2         546   \n",
       "\n",
       "   TotRmsAbvGrd  LotFrontage  SalePrice  \n",
       "0             6         65.0     169990  \n",
       "1             7         88.0     369900  \n",
       "2             5         35.0     140000  \n",
       "3             6         72.0     135000  \n",
       "4             6         80.0     197900  "
      ]
     },
     "execution_count": 13,
     "metadata": {},
     "output_type": "execute_result"
    }
   ],
   "source": [
    "print(train.shape)\n",
    "train.head()"
   ]
  },
  {
   "cell_type": "code",
   "execution_count": 14,
   "metadata": {},
   "outputs": [
    {
     "name": "stdout",
     "output_type": "stream",
     "text": [
      "(292, 8)\n"
     ]
    },
    {
     "data": {
      "text/html": [
       "<div>\n",
       "<style scoped>\n",
       "    .dataframe tbody tr th:only-of-type {\n",
       "        vertical-align: middle;\n",
       "    }\n",
       "\n",
       "    .dataframe tbody tr th {\n",
       "        vertical-align: top;\n",
       "    }\n",
       "\n",
       "    .dataframe thead th {\n",
       "        text-align: right;\n",
       "    }\n",
       "</style>\n",
       "<table border=\"1\" class=\"dataframe\">\n",
       "  <thead>\n",
       "    <tr style=\"text-align: right;\">\n",
       "      <th></th>\n",
       "      <th>ExterQual</th>\n",
       "      <th>AllFlrsSF</th>\n",
       "      <th>GrLivArea</th>\n",
       "      <th>SimplOverallCond</th>\n",
       "      <th>GarageArea</th>\n",
       "      <th>TotRmsAbvGrd</th>\n",
       "      <th>LotFrontage</th>\n",
       "      <th>SalePrice</th>\n",
       "    </tr>\n",
       "  </thead>\n",
       "  <tbody>\n",
       "    <tr>\n",
       "      <th>0</th>\n",
       "      <td>3</td>\n",
       "      <td>1839</td>\n",
       "      <td>1839</td>\n",
       "      <td>3</td>\n",
       "      <td>416</td>\n",
       "      <td>7</td>\n",
       "      <td>110.0</td>\n",
       "      <td>257500</td>\n",
       "    </tr>\n",
       "    <tr>\n",
       "      <th>1</th>\n",
       "      <td>3</td>\n",
       "      <td>2126</td>\n",
       "      <td>2126</td>\n",
       "      <td>2</td>\n",
       "      <td>538</td>\n",
       "      <td>7</td>\n",
       "      <td>0.0</td>\n",
       "      <td>185000</td>\n",
       "    </tr>\n",
       "    <tr>\n",
       "      <th>2</th>\n",
       "      <td>4</td>\n",
       "      <td>1709</td>\n",
       "      <td>1709</td>\n",
       "      <td>2</td>\n",
       "      <td>380</td>\n",
       "      <td>7</td>\n",
       "      <td>24.0</td>\n",
       "      <td>130000</td>\n",
       "    </tr>\n",
       "    <tr>\n",
       "      <th>3</th>\n",
       "      <td>3</td>\n",
       "      <td>1902</td>\n",
       "      <td>1902</td>\n",
       "      <td>2</td>\n",
       "      <td>539</td>\n",
       "      <td>8</td>\n",
       "      <td>68.0</td>\n",
       "      <td>112000</td>\n",
       "    </tr>\n",
       "    <tr>\n",
       "      <th>4</th>\n",
       "      <td>3</td>\n",
       "      <td>1072</td>\n",
       "      <td>1072</td>\n",
       "      <td>2</td>\n",
       "      <td>525</td>\n",
       "      <td>5</td>\n",
       "      <td>35.0</td>\n",
       "      <td>148000</td>\n",
       "    </tr>\n",
       "  </tbody>\n",
       "</table>\n",
       "</div>"
      ],
      "text/plain": [
       "   ExterQual  AllFlrsSF  GrLivArea  SimplOverallCond  GarageArea  \\\n",
       "0          3       1839       1839                 3         416   \n",
       "1          3       2126       2126                 2         538   \n",
       "2          4       1709       1709                 2         380   \n",
       "3          3       1902       1902                 2         539   \n",
       "4          3       1072       1072                 2         525   \n",
       "\n",
       "   TotRmsAbvGrd  LotFrontage  SalePrice  \n",
       "0             7        110.0     257500  \n",
       "1             7          0.0     185000  \n",
       "2             7         24.0     130000  \n",
       "3             8         68.0     112000  \n",
       "4             5         35.0     148000  "
      ]
     },
     "execution_count": 14,
     "metadata": {},
     "output_type": "execute_result"
    }
   ],
   "source": [
    "print(test.shape)\n",
    "test.head()"
   ]
  },
  {
   "cell_type": "code",
   "execution_count": null,
   "metadata": {},
   "outputs": [],
   "source": []
  },
  {
   "cell_type": "code",
   "execution_count": 7,
   "metadata": {},
   "outputs": [],
   "source": [
    "# split into features and target\n",
    "X_train = train.drop(['SalePrice'], axis = 1)\n",
    "y_train = train['SalePrice']"
   ]
  },
  {
   "cell_type": "code",
   "execution_count": 8,
   "metadata": {},
   "outputs": [],
   "source": [
    "X_test = test.drop(['SalePrice'], axis = 1)\n",
    "y_test = test['SalePrice']"
   ]
  },
  {
   "cell_type": "code",
   "execution_count": 10,
   "metadata": {},
   "outputs": [
    {
     "data": {
      "text/html": [
       "<div>\n",
       "<style scoped>\n",
       "    .dataframe tbody tr th:only-of-type {\n",
       "        vertical-align: middle;\n",
       "    }\n",
       "\n",
       "    .dataframe tbody tr th {\n",
       "        vertical-align: top;\n",
       "    }\n",
       "\n",
       "    .dataframe thead th {\n",
       "        text-align: right;\n",
       "    }\n",
       "</style>\n",
       "<table border=\"1\" class=\"dataframe\">\n",
       "  <thead>\n",
       "    <tr style=\"text-align: right;\">\n",
       "      <th></th>\n",
       "      <th>ExterQual</th>\n",
       "      <th>AllFlrsSF</th>\n",
       "      <th>GrLivArea</th>\n",
       "      <th>SimplOverallCond</th>\n",
       "      <th>GarageArea</th>\n",
       "      <th>TotRmsAbvGrd</th>\n",
       "      <th>LotFrontage</th>\n",
       "    </tr>\n",
       "  </thead>\n",
       "  <tbody>\n",
       "    <tr>\n",
       "      <th>0</th>\n",
       "      <td>4</td>\n",
       "      <td>1316</td>\n",
       "      <td>1316</td>\n",
       "      <td>2</td>\n",
       "      <td>397</td>\n",
       "      <td>6</td>\n",
       "      <td>65.0</td>\n",
       "    </tr>\n",
       "    <tr>\n",
       "      <th>1</th>\n",
       "      <td>4</td>\n",
       "      <td>2028</td>\n",
       "      <td>2028</td>\n",
       "      <td>2</td>\n",
       "      <td>880</td>\n",
       "      <td>7</td>\n",
       "      <td>88.0</td>\n",
       "    </tr>\n",
       "    <tr>\n",
       "      <th>2</th>\n",
       "      <td>3</td>\n",
       "      <td>1072</td>\n",
       "      <td>1072</td>\n",
       "      <td>2</td>\n",
       "      <td>525</td>\n",
       "      <td>5</td>\n",
       "      <td>35.0</td>\n",
       "    </tr>\n",
       "    <tr>\n",
       "      <th>3</th>\n",
       "      <td>3</td>\n",
       "      <td>1048</td>\n",
       "      <td>1048</td>\n",
       "      <td>2</td>\n",
       "      <td>286</td>\n",
       "      <td>6</td>\n",
       "      <td>72.0</td>\n",
       "    </tr>\n",
       "    <tr>\n",
       "      <th>4</th>\n",
       "      <td>3</td>\n",
       "      <td>1779</td>\n",
       "      <td>1779</td>\n",
       "      <td>2</td>\n",
       "      <td>546</td>\n",
       "      <td>6</td>\n",
       "      <td>80.0</td>\n",
       "    </tr>\n",
       "  </tbody>\n",
       "</table>\n",
       "</div>"
      ],
      "text/plain": [
       "   ExterQual  AllFlrsSF  GrLivArea  SimplOverallCond  GarageArea  \\\n",
       "0          4       1316       1316                 2         397   \n",
       "1          4       2028       2028                 2         880   \n",
       "2          3       1072       1072                 2         525   \n",
       "3          3       1048       1048                 2         286   \n",
       "4          3       1779       1779                 2         546   \n",
       "\n",
       "   TotRmsAbvGrd  LotFrontage  \n",
       "0             6         65.0  \n",
       "1             7         88.0  \n",
       "2             5         35.0  \n",
       "3             6         72.0  \n",
       "4             6         80.0  "
      ]
     },
     "execution_count": 10,
     "metadata": {},
     "output_type": "execute_result"
    }
   ],
   "source": [
    "# display first five rows of training features and target\n",
    "X_train.head()\n",
    "# print(y_train.head())\n",
    "# print(X_test.head())\n",
    "# print(y_test.head())"
   ]
  },
  {
   "cell_type": "code",
   "execution_count": 33,
   "metadata": {},
   "outputs": [],
   "source": [
    "def estimate_coef(x, y):\n",
    "    # number of observations/points\n",
    "    n = np.size(x)\n",
    " \n",
    "    # mean of x and y vector\n",
    "    m_x, m_y = np.mean(x), np.mean(y)\n",
    " \n",
    "    # calculating cross-deviation and deviation about x\n",
    "    SS_xy = np.sum(y*x)- n*m_y*m_x\n",
    "    SS_xx = np.sum(x*x) - n*m_x*m_x\n",
    " \n",
    "    # calculating regression coefficients\n",
    "    b_1 = SS_xy / SS_xx\n",
    "    b_0 = m_y - b_1*m_x\n",
    " \n",
    "    return(b_0, b_1)\n",
    " \n",
    "def plot_regression_line(x, y, b):\n",
    "    # plotting the actual points as scatter plot\n",
    "    plt.scatter(x, y, color = \"m\",\n",
    "               marker = \"o\", s = 30)\n",
    " \n",
    "    # predicted response vector\n",
    "    y_pred = b[0] + b[1]*x\n",
    " \n",
    "    # plotting the regression line\n",
    "    plt.plot(x, y_pred, color = \"g\")\n",
    " \n",
    "    # putting labels\n",
    "    plt.xlabel('x')\n",
    "    plt.ylabel('y')\n",
    " \n",
    "    # function to show plot\n",
    "    plt.show()\n"
   ]
  },
  {
   "cell_type": "code",
   "execution_count": 34,
   "metadata": {},
   "outputs": [
    {
     "data": {
      "image/png": "[encoded data removed]",
      "text/plain": [
       "<Figure size 432x288 with 1 Axes>"
      ]
     },
     "metadata": {},
     "output_type": "display_data"
    }
   ],
   "source": [
    "# Visualize your results\n",
    "values = estimate_coef(X_train['GarageArea'], y_train)\n",
    "plot_regression_line(X_train['GarageArea'], y_train, values)"
   ]
  },
  {
   "cell_type": "code",
   "execution_count": null,
   "metadata": {},
   "outputs": [],
   "source": []
  },
  {
   "cell_type": "code",
   "execution_count": 36,
   "metadata": {},
   "outputs": [
    {
     "name": "stdout",
     "output_type": "stream",
     "text": [
      "[12.11227082 12.19875709 12.17873549 12.09451926 11.79496421 11.62810742\n",
      " 12.23094302 11.66779875 12.83933008 11.42802489 13.03969447 11.48996121\n",
      " 11.96267792 12.15572954 11.84253379 11.80049608 11.63719563 11.95712008\n",
      " 12.33129216 12.18239258 12.02229166 12.0255932  12.23719561 11.87200608\n",
      " 12.44798664 12.643851   12.47162239 12.5982682  11.8215798  11.50148537\n",
      " 11.789251   13.22072258 11.50903908 11.87175444 12.20648447 12.23039239\n",
      " 11.69069064 12.89000353 11.7661653  12.30551334 12.29771967 11.68183125\n",
      " 12.84865739 11.97590572 12.48417858 12.05078167 11.76415223 11.68701845\n",
      " 12.25244997 12.23563131 11.51096238 12.6868023  11.79805816 11.80839364\n",
      " 12.05803133 12.79445006 12.15644059 12.02083321 11.5972928  12.61133737\n",
      " 12.17873549 12.98542578 12.19936653 11.39135943 11.90586361 11.8061422\n",
      " 11.79982215 11.72513481 11.82121504 11.56637513 11.81933974 12.42686173\n",
      " 11.68135512 11.73767058 11.78233782 12.74326629 12.23338334 11.7939831\n",
      " 12.11819825 12.03048394 11.68266492 12.12712056 11.90938147 12.29955162\n",
      " 12.45304782 12.1158874  11.87991759 12.24021247 11.91744569 11.8183186\n",
      " 12.50615175 12.1375194  11.58971462 11.72636454 11.63459047 11.88480366\n",
      " 12.15526438 12.26590528 13.04953318 12.28186559 12.32674689 11.84409995\n",
      " 11.93199572 11.69211204 11.70018651 12.11670782 12.51640236 12.57485591\n",
      " 12.32705351 11.92622652 11.6862094  12.36477339 12.07473212 11.78271\n",
      " 11.32985799 11.73571905 12.62594874 12.81379998 12.20129924 12.51632293\n",
      " 12.21841653 12.5823989  11.71435727 11.89019067 11.96550613 11.5280544\n",
      " 11.67516422 12.4678313  11.58752619 12.48170867 12.47862706 11.84850904\n",
      " 11.69121489 12.29370377 12.44371486 12.28054085 12.24909651 11.61319402\n",
      " 11.91487052 11.86840427 11.64726503 12.59520997 12.16486312 11.84101696\n",
      " 12.06636477 11.93760694 12.3307774  11.70575984 11.63296814 11.89129321\n",
      " 11.82982961 11.90139964 12.19672361 11.85108493 12.92933893 11.98491553\n",
      " 11.57635224 11.58499973 11.50805023 11.89922198 12.04396888 12.04744607\n",
      " 11.95895367 12.21663376 11.67068064 11.70030147 12.40205447 12.42036159\n",
      " 11.51955271 11.80310958 12.32654451 12.11743224 12.00879437 11.93764444\n",
      " 11.99675635 12.10883467 13.14701159 11.85470772 11.63193185 11.75102253\n",
      " 11.80323969 12.70259578 12.15545884 11.93794973 12.12127975 12.36037884\n",
      " 11.82521344 12.00418425 12.07759098 11.82645624 11.44907288 12.17814015\n",
      " 12.04679459 11.57678353 11.66550057 11.8399987  12.00347863 11.5136164\n",
      " 12.7779323  11.9549082  12.40986742 12.07929626 12.6713032  11.91885273\n",
      " 12.17589121 11.85394798 11.75840026 11.46815018 11.84547767 11.94838787\n",
      " 13.18652715 12.55796296 11.70135142 12.48875471 12.55406488 11.77174461\n",
      " 12.27118603 12.14117083 11.69371398 11.93298946 11.7384902  12.970298\n",
      " 11.62537494 11.59287262 12.36147802 12.14998731 11.71136005 12.27409416\n",
      " 11.8740295  11.7751253  12.21957196 12.28853847 12.11493594 11.71193265\n",
      " 12.33250862 12.05561594 12.7067329  12.56709692 12.4100063  11.99481002\n",
      " 12.19385718 11.85050997 11.83435354 11.97667415 11.5138426  12.41560667\n",
      " 11.73020719 12.04863283 12.49596194 12.11497669 11.85274241 11.93520819\n",
      " 12.12038933 11.84397818 12.27161042 12.58709183 11.97757653 12.41630734\n",
      " 11.54758587 12.73344354 11.69102664 11.70250058 12.70721356 12.27331177\n",
      " 12.15188932 12.13637047 11.91545409 12.2461217  12.17794617 12.7493585\n",
      " 11.86406128 11.76375043 11.98230344 12.42741362 12.28738732 12.90041852\n",
      " 12.0158569  11.92495846 11.67720943 11.5858002  11.95900144 11.74488456\n",
      " 11.89465559 11.76096931 12.07657923 11.6994464  11.96580469 12.78918226\n",
      " 12.54892387 12.09242315 12.25502625 11.61421594]\n"
     ]
    }
   ],
   "source": [
    "# Predict `SalePrice` with scikit-learn\n",
    "\n",
    "# instantiate linear model\n",
    "lin_reg = LinearRegression()\n",
    "\n",
    "# fit model on training data\n",
    "lin_reg.fit(X_train,np.log(y_train))\n",
    "# predict on test features\n",
    "y_pred = lin_reg.predict(X_test)\n",
    "\n",
    "# display prediction\n",
    "print(y_pred)"
   ]
  },
  {
   "cell_type": "code",
   "execution_count": 38,
   "metadata": {},
   "outputs": [
    {
     "name": "stdout",
     "output_type": "stream",
     "text": [
      "29158.29503663651\n"
     ]
    }
   ],
   "source": [
    "# MAE calculation\n",
    "mae = mean_absolute_error(y_test, np.exp(y_pred))\n",
    "print(mae)"
   ]
  },
  {
   "cell_type": "code",
   "execution_count": 44,
   "metadata": {},
   "outputs": [
    {
     "name": "stdout",
     "output_type": "stream",
     "text": [
      "42842.868891224905\n"
     ]
    }
   ],
   "source": [
    "# RMSE colculation\n",
    "rmse = math.sqrt(mean_squared_error(y_test, np.exp(y_pred)))\n",
    "print(rmse)"
   ]
  },
  {
   "cell_type": "code",
   "execution_count": 46,
   "metadata": {},
   "outputs": [
    {
     "name": "stdout",
     "output_type": "stream",
     "text": [
      "0.7378446924962252\n"
     ]
    }
   ],
   "source": [
    "# R-squared calculation\n",
    "rsquared = r2_score(y_test, np.exp(y_pred))\n",
    "print(rsquared)"
   ]
  },
  {
   "cell_type": "markdown",
   "metadata": {},
   "source": [
    "#### After completing this project, got a better understanding of how to build a linear regression model. And applied following concepts.\n",
    "\n",
    "* Train-test split\n",
    "* Correlation between the features\n",
    "* Linear Regression\n",
    "* MSE and R^2 Evaluation Metrics"
   ]
  },
  {
   "cell_type": "code",
   "execution_count": null,
   "metadata": {},
   "outputs": [],
   "source": []
  }
 ],
 "metadata": {
  "kernelspec": {
   "display_name": "Python 3",
   "language": "python",
   "name": "python3"
  },
  "language_info": {
   "codemirror_mode": {
    "name": "ipython",
    "version": 3
   },
   "file_extension": ".py",
   "mimetype": "text/x-python",
   "name": "python",
   "nbconvert_exporter": "python",
   "pygments_lexer": "ipython3",
   "version": "3.5.5"
  }
 },
 "nbformat": 4,
 "nbformat_minor": 2
}
