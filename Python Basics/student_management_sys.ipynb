{
 "cells": [
  {
   "cell_type": "markdown",
   "metadata": {},
   "source": [
    "##  Student Management System\n",
    "Creating a student management system for a school using basic Python operations."
   ]
  },
  {
   "cell_type": "code",
   "execution_count": 21,
   "metadata": {},
   "outputs": [],
   "source": [
    "#creating list of students in 2 classrooms:\n",
    "\n",
    "class_1 = ['Rushabh Heman','Omkar Kadam','Vivek Macha','Ashok Patel']\n",
    "class_2 = ['Rohit Awate','Kiran Shetty','Prasad Dugade']"
   ]
  },
  {
   "cell_type": "code",
   "execution_count": 22,
   "metadata": {},
   "outputs": [
    {
     "name": "stdout",
     "output_type": "stream",
     "text": [
      "['Rushabh Heman', 'Omkar Kadam', 'Vivek Macha', 'Ashok Patel', 'Rohit Awate', 'Kiran Shetty', 'Prasad Dugade']\n"
     ]
    }
   ],
   "source": [
    "#combining both lists to create one common list of students:\n",
    "\n",
    "new_class = class_1 + class_2\n",
    "print(new_class)"
   ]
  },
  {
   "cell_type": "code",
   "execution_count": 23,
   "metadata": {},
   "outputs": [
    {
     "name": "stdout",
     "output_type": "stream",
     "text": [
      "['Rushabh Heman', 'Omkar Kadam', 'Vivek Macha', 'Ashok Patel', 'Rohit Awate', 'Kiran Shetty', 'Prasad Dugade', 'Rupesh Gavit']\n"
     ]
    }
   ],
   "source": [
    "#adding the name of a student who was missing :\n",
    "\n",
    "new_class.append('Rupesh Gavit')\n",
    "print(new_class)"
   ]
  },
  {
   "cell_type": "code",
   "execution_count": 24,
   "metadata": {},
   "outputs": [
    {
     "name": "stdout",
     "output_type": "stream",
     "text": [
      "['Rushabh Heman', 'Omkar Kadam', 'Vivek Macha', 'Ashok Patel', 'Rohit Awate', 'Kiran Shetty', 'Rupesh Gavit']\n"
     ]
    }
   ],
   "source": [
    "#removing a wrong entry of name from the combined list: \n",
    "\n",
    "new_class.remove('Prasad Dugade')\n",
    "print(new_class)"
   ]
  },
  {
   "cell_type": "code",
   "execution_count": 25,
   "metadata": {},
   "outputs": [
    {
     "name": "stdout",
     "output_type": "stream",
     "text": [
      "345\n"
     ]
    }
   ],
   "source": [
    "#Lets calculate the % score of 'Vivek Macha':\n",
    "#creating a dictionary of marks obtained by 'Vivek Macha' in respective subjects:\n",
    "# and adding all Marks\n",
    "\n",
    "courses = {'Math': 65, 'English':70, 'History': 80, 'Geography': 70, 'Science': 60}\n",
    "total = courses['Math'] + courses['English'] + courses['History'] + courses['Geography'] + courses['Science']\n",
    "print(total)"
   ]
  },
  {
   "cell_type": "code",
   "execution_count": 26,
   "metadata": {},
   "outputs": [
    {
     "name": "stdout",
     "output_type": "stream",
     "text": [
      "69.0\n"
     ]
    }
   ],
   "source": [
    "# since all marks obtained are outof 100\n",
    "\n",
    "percentage = (total / 500) * 100\n",
    "print(percentage)"
   ]
  },
  {
   "cell_type": "code",
   "execution_count": 27,
   "metadata": {},
   "outputs": [
    {
     "name": "stdout",
     "output_type": "stream",
     "text": [
      "Rushabh Heman\n"
     ]
    }
   ],
   "source": [
    "#Now to find the topper in mathematics, we create another dictionary of students with their respective maths score: \n",
    "mathematics = {'Omkar Kadam':78, 'Rushabh Heman':95, 'Vivek Macha':65, 'Ashok Patel':50, 'Rohit Awate':70, 'Kiran Shetty':66, 'Pooja Bhosale':75}\n",
    "\n",
    "#compares the value & returns the key:\n",
    "topper = max(mathematics,key = mathematics.get)\n",
    "print(topper)"
   ]
  },
  {
   "cell_type": "code",
   "execution_count": 28,
   "metadata": {},
   "outputs": [],
   "source": [
    "#to get the last name first:\n",
    "\n",
    "first_name = topper.split()[0]\n",
    "last_name = topper.split()[1]\n",
    "full_name = last_name + ' ' + first_name"
   ]
  },
  {
   "cell_type": "code",
   "execution_count": 29,
   "metadata": {},
   "outputs": [
    {
     "name": "stdout",
     "output_type": "stream",
     "text": [
      "HEMAN RUSHABH\n"
     ]
    }
   ],
   "source": [
    "#to highlight the name, printing in uppercase:\n",
    "\n",
    "uppercase_name = full_name.upper()\n",
    "print(uppercase_name)\n"
   ]
  },
  {
   "cell_type": "markdown",
   "metadata": {},
   "source": [
    "### This is my first basic python project:\n",
    "Things i learnt:\n",
    "\n",
    "    1.Mathematical operations\n",
    "    2.List operations\n",
    "    3.Dictionary operations\n",
    "    4.String indexing and formatting\n"
   ]
  },
  {
   "cell_type": "code",
   "execution_count": null,
   "metadata": {},
   "outputs": [],
   "source": []
  }
 ],
 "metadata": {
  "kernelspec": {
   "display_name": "Python 3",
   "language": "python",
   "name": "python3"
  },
  "language_info": {
   "codemirror_mode": {
    "name": "ipython",
    "version": 3
   },
   "file_extension": ".py",
   "mimetype": "text/x-python",
   "name": "python",
   "nbconvert_exporter": "python",
   "pygments_lexer": "ipython3",
   "version": "3.7.0"
  }
 },
 "nbformat": 4,
 "nbformat_minor": 2
}
