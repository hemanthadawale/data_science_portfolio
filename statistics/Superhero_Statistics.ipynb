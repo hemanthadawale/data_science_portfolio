{
 "cells": [
  {
   "cell_type": "markdown",
   "metadata": {},
   "source": [
    "### Superhero Statistics\n",
    "The rise of superheroes and supervillains is at an all time high. The 'Academy of Super Beings(ASB)' was formed to bring order to it. We have with us the data of more than 500 super humans but we need your knowledge of descriptive statistics in figuring out the important insights from it."
   ]
  },
  {
   "cell_type": "markdown",
   "metadata": {},
   "source": [
    "* Feature: Description\n",
    "* ID : Unique character ID\n",
    "* Name : Name of the character\n",
    "* Gender : Male/Female\n",
    "* Intelligence : Intelligence points of the character\n",
    "* Strength : Strength points of the character\n",
    "* Speed : Speed points of the character\n",
    "* Durability : Durability points of the character\n",
    "* Power : Power points of the character\n",
    "* Combat : Combat points of the character\n",
    "* Total : Total sum of all the above points of the character\n",
    "* Height : Height of the character(-99 value equates to 'immeasurable')\n",
    "* Weight : Weight of the character(-99 value equates to 'immeasurable')\n",
    "* SkinColor : Skin color of the the character\n",
    "* EyeColor : Eye color of the character\n",
    "* HairColor : Hair color of the character\n",
    "* Race : Which race the character belongs to"
   ]
  },
  {
   "cell_type": "code",
   "execution_count": 1,
   "metadata": {},
   "outputs": [],
   "source": [
    "#Header files\n",
    "import pandas as pd\n",
    "import numpy as np\n",
    "import matplotlib.pyplot as plt"
   ]
  },
  {
   "cell_type": "code",
   "execution_count": 2,
   "metadata": {},
   "outputs": [],
   "source": [
    "#Data loading\n",
    "data = pd.read_csv(\"data.csv\")"
   ]
  },
  {
   "cell_type": "code",
   "execution_count": 4,
   "metadata": {},
   "outputs": [
    {
     "data": {
      "text/html": [
       "<div>\n",
       "<style scoped>\n",
       "    .dataframe tbody tr th:only-of-type {\n",
       "        vertical-align: middle;\n",
       "    }\n",
       "\n",
       "    .dataframe tbody tr th {\n",
       "        vertical-align: top;\n",
       "    }\n",
       "\n",
       "    .dataframe thead th {\n",
       "        text-align: right;\n",
       "    }\n",
       "</style>\n",
       "<table border=\"1\" class=\"dataframe\">\n",
       "  <thead>\n",
       "    <tr style=\"text-align: right;\">\n",
       "      <th></th>\n",
       "      <th>ID</th>\n",
       "      <th>Name</th>\n",
       "      <th>Alignment</th>\n",
       "      <th>Gender</th>\n",
       "      <th>Intelligence</th>\n",
       "      <th>Strength</th>\n",
       "      <th>Speed</th>\n",
       "      <th>Durability</th>\n",
       "      <th>Power</th>\n",
       "      <th>Combat</th>\n",
       "      <th>Total</th>\n",
       "      <th>Height</th>\n",
       "      <th>Weight</th>\n",
       "      <th>SkinColor</th>\n",
       "      <th>EyeColor</th>\n",
       "      <th>HairColor</th>\n",
       "      <th>Race</th>\n",
       "    </tr>\n",
       "  </thead>\n",
       "  <tbody>\n",
       "    <tr>\n",
       "      <th>0</th>\n",
       "      <td>0</td>\n",
       "      <td>3-D Man</td>\n",
       "      <td>good</td>\n",
       "      <td>Male</td>\n",
       "      <td>50</td>\n",
       "      <td>31</td>\n",
       "      <td>43</td>\n",
       "      <td>32</td>\n",
       "      <td>25</td>\n",
       "      <td>52</td>\n",
       "      <td>233</td>\n",
       "      <td>203.0</td>\n",
       "      <td>441</td>\n",
       "      <td>-</td>\n",
       "      <td>yellow</td>\n",
       "      <td>No Hair</td>\n",
       "      <td>Human</td>\n",
       "    </tr>\n",
       "    <tr>\n",
       "      <th>1</th>\n",
       "      <td>1</td>\n",
       "      <td>A-Bomb</td>\n",
       "      <td>good</td>\n",
       "      <td>Male</td>\n",
       "      <td>38</td>\n",
       "      <td>100</td>\n",
       "      <td>17</td>\n",
       "      <td>80</td>\n",
       "      <td>17</td>\n",
       "      <td>64</td>\n",
       "      <td>316</td>\n",
       "      <td>191.0</td>\n",
       "      <td>65</td>\n",
       "      <td>blue</td>\n",
       "      <td>blue</td>\n",
       "      <td>No Hair</td>\n",
       "      <td>Icthyo Sapien</td>\n",
       "    </tr>\n",
       "    <tr>\n",
       "      <th>2</th>\n",
       "      <td>2</td>\n",
       "      <td>Abe Sapien</td>\n",
       "      <td>good</td>\n",
       "      <td>Male</td>\n",
       "      <td>88</td>\n",
       "      <td>14</td>\n",
       "      <td>35</td>\n",
       "      <td>42</td>\n",
       "      <td>35</td>\n",
       "      <td>85</td>\n",
       "      <td>299</td>\n",
       "      <td>185.0</td>\n",
       "      <td>90</td>\n",
       "      <td>red</td>\n",
       "      <td>blue</td>\n",
       "      <td>No Hair</td>\n",
       "      <td>Ungaran</td>\n",
       "    </tr>\n",
       "    <tr>\n",
       "      <th>3</th>\n",
       "      <td>3</td>\n",
       "      <td>Abin Sur</td>\n",
       "      <td>good</td>\n",
       "      <td>Male</td>\n",
       "      <td>50</td>\n",
       "      <td>90</td>\n",
       "      <td>53</td>\n",
       "      <td>64</td>\n",
       "      <td>84</td>\n",
       "      <td>65</td>\n",
       "      <td>406</td>\n",
       "      <td>203.0</td>\n",
       "      <td>441</td>\n",
       "      <td>-</td>\n",
       "      <td>green</td>\n",
       "      <td>No Hair</td>\n",
       "      <td>Human / Radiation</td>\n",
       "    </tr>\n",
       "    <tr>\n",
       "      <th>4</th>\n",
       "      <td>4</td>\n",
       "      <td>Abomination</td>\n",
       "      <td>bad</td>\n",
       "      <td>Male</td>\n",
       "      <td>63</td>\n",
       "      <td>80</td>\n",
       "      <td>53</td>\n",
       "      <td>90</td>\n",
       "      <td>55</td>\n",
       "      <td>95</td>\n",
       "      <td>436</td>\n",
       "      <td>-99.0</td>\n",
       "      <td>-99</td>\n",
       "      <td>-</td>\n",
       "      <td>blue</td>\n",
       "      <td>Black</td>\n",
       "      <td>Cosmic Entity</td>\n",
       "    </tr>\n",
       "  </tbody>\n",
       "</table>\n",
       "</div>"
      ],
      "text/plain": [
       "   ID         Name Alignment Gender  Intelligence  Strength  Speed  \\\n",
       "0   0      3-D Man      good   Male            50        31     43   \n",
       "1   1       A-Bomb      good   Male            38       100     17   \n",
       "2   2   Abe Sapien      good   Male            88        14     35   \n",
       "3   3     Abin Sur      good   Male            50        90     53   \n",
       "4   4  Abomination       bad   Male            63        80     53   \n",
       "\n",
       "   Durability  Power  Combat  Total  Height  Weight SkinColor EyeColor  \\\n",
       "0          32     25      52    233   203.0     441         -   yellow   \n",
       "1          80     17      64    316   191.0      65      blue     blue   \n",
       "2          42     35      85    299   185.0      90       red     blue   \n",
       "3          64     84      65    406   203.0     441         -    green   \n",
       "4          90     55      95    436   -99.0     -99         -     blue   \n",
       "\n",
       "  HairColor               Race  \n",
       "0   No Hair              Human  \n",
       "1   No Hair      Icthyo Sapien  \n",
       "2   No Hair            Ungaran  \n",
       "3   No Hair  Human / Radiation  \n",
       "4     Black      Cosmic Entity  "
      ]
     },
     "execution_count": 4,
     "metadata": {},
     "output_type": "execute_result"
    }
   ],
   "source": [
    "data.head()"
   ]
  },
  {
   "cell_type": "code",
   "execution_count": 5,
   "metadata": {},
   "outputs": [
    {
     "data": {
      "text/html": [
       "<div>\n",
       "<style scoped>\n",
       "    .dataframe tbody tr th:only-of-type {\n",
       "        vertical-align: middle;\n",
       "    }\n",
       "\n",
       "    .dataframe tbody tr th {\n",
       "        vertical-align: top;\n",
       "    }\n",
       "\n",
       "    .dataframe thead th {\n",
       "        text-align: right;\n",
       "    }\n",
       "</style>\n",
       "<table border=\"1\" class=\"dataframe\">\n",
       "  <thead>\n",
       "    <tr style=\"text-align: right;\">\n",
       "      <th></th>\n",
       "      <th>ID</th>\n",
       "      <th>Intelligence</th>\n",
       "      <th>Strength</th>\n",
       "      <th>Speed</th>\n",
       "      <th>Durability</th>\n",
       "      <th>Power</th>\n",
       "      <th>Combat</th>\n",
       "      <th>Total</th>\n",
       "      <th>Height</th>\n",
       "      <th>Weight</th>\n",
       "    </tr>\n",
       "  </thead>\n",
       "  <tbody>\n",
       "    <tr>\n",
       "      <th>count</th>\n",
       "      <td>594.000000</td>\n",
       "      <td>594.000000</td>\n",
       "      <td>594.000000</td>\n",
       "      <td>594.000000</td>\n",
       "      <td>594.000000</td>\n",
       "      <td>594.000000</td>\n",
       "      <td>594.000000</td>\n",
       "      <td>594.000000</td>\n",
       "      <td>594.000000</td>\n",
       "      <td>594.000000</td>\n",
       "    </tr>\n",
       "    <tr>\n",
       "      <th>mean</th>\n",
       "      <td>306.094276</td>\n",
       "      <td>44.468013</td>\n",
       "      <td>28.870370</td>\n",
       "      <td>27.481481</td>\n",
       "      <td>41.671717</td>\n",
       "      <td>40.067340</td>\n",
       "      <td>43.220539</td>\n",
       "      <td>225.779461</td>\n",
       "      <td>100.920875</td>\n",
       "      <td>41.917508</td>\n",
       "    </tr>\n",
       "    <tr>\n",
       "      <th>std</th>\n",
       "      <td>176.942473</td>\n",
       "      <td>32.822736</td>\n",
       "      <td>32.468561</td>\n",
       "      <td>25.860447</td>\n",
       "      <td>36.347976</td>\n",
       "      <td>34.343403</td>\n",
       "      <td>33.242786</td>\n",
       "      <td>166.563815</td>\n",
       "      <td>142.606859</td>\n",
       "      <td>132.790361</td>\n",
       "    </tr>\n",
       "    <tr>\n",
       "      <th>min</th>\n",
       "      <td>0.000000</td>\n",
       "      <td>1.000000</td>\n",
       "      <td>1.000000</td>\n",
       "      <td>1.000000</td>\n",
       "      <td>1.000000</td>\n",
       "      <td>0.000000</td>\n",
       "      <td>1.000000</td>\n",
       "      <td>5.000000</td>\n",
       "      <td>-99.000000</td>\n",
       "      <td>-99.000000</td>\n",
       "    </tr>\n",
       "    <tr>\n",
       "      <th>25%</th>\n",
       "      <td>153.250000</td>\n",
       "      <td>1.000000</td>\n",
       "      <td>1.000000</td>\n",
       "      <td>1.000000</td>\n",
       "      <td>1.000000</td>\n",
       "      <td>0.000000</td>\n",
       "      <td>1.000000</td>\n",
       "      <td>5.000000</td>\n",
       "      <td>-99.000000</td>\n",
       "      <td>-99.000000</td>\n",
       "    </tr>\n",
       "    <tr>\n",
       "      <th>50%</th>\n",
       "      <td>306.500000</td>\n",
       "      <td>50.000000</td>\n",
       "      <td>10.000000</td>\n",
       "      <td>23.000000</td>\n",
       "      <td>32.000000</td>\n",
       "      <td>37.000000</td>\n",
       "      <td>49.000000</td>\n",
       "      <td>255.000000</td>\n",
       "      <td>175.000000</td>\n",
       "      <td>62.000000</td>\n",
       "    </tr>\n",
       "    <tr>\n",
       "      <th>75%</th>\n",
       "      <td>459.750000</td>\n",
       "      <td>75.000000</td>\n",
       "      <td>53.000000</td>\n",
       "      <td>42.000000</td>\n",
       "      <td>80.000000</td>\n",
       "      <td>66.750000</td>\n",
       "      <td>70.000000</td>\n",
       "      <td>349.750000</td>\n",
       "      <td>187.250000</td>\n",
       "      <td>90.000000</td>\n",
       "    </tr>\n",
       "    <tr>\n",
       "      <th>max</th>\n",
       "      <td>610.000000</td>\n",
       "      <td>113.000000</td>\n",
       "      <td>100.000000</td>\n",
       "      <td>100.000000</td>\n",
       "      <td>120.000000</td>\n",
       "      <td>100.000000</td>\n",
       "      <td>101.000000</td>\n",
       "      <td>581.000000</td>\n",
       "      <td>975.000000</td>\n",
       "      <td>900.000000</td>\n",
       "    </tr>\n",
       "  </tbody>\n",
       "</table>\n",
       "</div>"
      ],
      "text/plain": [
       "               ID  Intelligence    Strength       Speed  Durability  \\\n",
       "count  594.000000    594.000000  594.000000  594.000000  594.000000   \n",
       "mean   306.094276     44.468013   28.870370   27.481481   41.671717   \n",
       "std    176.942473     32.822736   32.468561   25.860447   36.347976   \n",
       "min      0.000000      1.000000    1.000000    1.000000    1.000000   \n",
       "25%    153.250000      1.000000    1.000000    1.000000    1.000000   \n",
       "50%    306.500000     50.000000   10.000000   23.000000   32.000000   \n",
       "75%    459.750000     75.000000   53.000000   42.000000   80.000000   \n",
       "max    610.000000    113.000000  100.000000  100.000000  120.000000   \n",
       "\n",
       "            Power      Combat       Total      Height      Weight  \n",
       "count  594.000000  594.000000  594.000000  594.000000  594.000000  \n",
       "mean    40.067340   43.220539  225.779461  100.920875   41.917508  \n",
       "std     34.343403   33.242786  166.563815  142.606859  132.790361  \n",
       "min      0.000000    1.000000    5.000000  -99.000000  -99.000000  \n",
       "25%      0.000000    1.000000    5.000000  -99.000000  -99.000000  \n",
       "50%     37.000000   49.000000  255.000000  175.000000   62.000000  \n",
       "75%     66.750000   70.000000  349.750000  187.250000   90.000000  \n",
       "max    100.000000  101.000000  581.000000  975.000000  900.000000  "
      ]
     },
     "execution_count": 5,
     "metadata": {},
     "output_type": "execute_result"
    }
   ],
   "source": [
    "data.describe()"
   ]
  },
  {
   "cell_type": "code",
   "execution_count": 8,
   "metadata": {},
   "outputs": [
    {
     "data": {
      "text/plain": [
       "ID              0\n",
       "Name            0\n",
       "Alignment       0\n",
       "Gender          0\n",
       "Intelligence    0\n",
       "Strength        0\n",
       "Speed           0\n",
       "Durability      0\n",
       "Power           0\n",
       "Combat          0\n",
       "Total           0\n",
       "Height          0\n",
       "Weight          0\n",
       "SkinColor       0\n",
       "EyeColor        0\n",
       "HairColor       0\n",
       "Race            0\n",
       "dtype: int64"
      ]
     },
     "execution_count": 8,
     "metadata": {},
     "output_type": "execute_result"
    }
   ],
   "source": [
    "data.isnull().sum()"
   ]
  },
  {
   "cell_type": "code",
   "execution_count": 9,
   "metadata": {},
   "outputs": [
    {
     "name": "stdout",
     "output_type": "stream",
     "text": [
      "Male      413\n",
      "Female    157\n",
      "-          24\n",
      "Name: Gender, dtype: int64\n"
     ]
    }
   ],
   "source": [
    "gender_count = data['Gender'].value_counts()\n",
    "print(gender_count)"
   ]
  },
  {
   "cell_type": "code",
   "execution_count": 10,
   "metadata": {},
   "outputs": [
    {
     "name": "stdout",
     "output_type": "stream",
     "text": [
      "Male       413\n",
      "Female     157\n",
      "Agender     24\n",
      "Name: Gender, dtype: int64\n"
     ]
    }
   ],
   "source": [
    "#replacing \"-\" with 'Agender' in gender column\n",
    "data['Gender'].replace({'-': 'Agender'}, inplace = True)\n",
    "gender_count = data['Gender'].value_counts()\n",
    "print(gender_count)"
   ]
  },
  {
   "cell_type": "code",
   "execution_count": 11,
   "metadata": {},
   "outputs": [
    {
     "data": {
      "text/plain": [
       "<matplotlib.axes._subplots.AxesSubplot at 0x25f878baeb8>"
      ]
     },
     "execution_count": 11,
     "metadata": {},
     "output_type": "execute_result"
    },
    {
     "data": {
      "image/png": "[encoded data removed]",
      "text/plain": [
       "<Figure size 432x288 with 1 Axes>"
      ]
     },
     "metadata": {},
     "output_type": "display_data"
    }
   ],
   "source": [
    "#plotting gender column value counts\n",
    "gender_count.plot.bar()"
   ]
  },
  {
   "cell_type": "code",
   "execution_count": 12,
   "metadata": {},
   "outputs": [
    {
     "data": {
      "text/plain": [
       "<matplotlib.axes._subplots.AxesSubplot at 0x25f87ba2470>"
      ]
     },
     "execution_count": 12,
     "metadata": {},
     "output_type": "execute_result"
    },
    {
     "data": {
      "image/png": "[encoded data removed]",
      "text/plain": [
       "<Figure size 432x288 with 1 Axes>"
      ]
     },
     "metadata": {},
     "output_type": "display_data"
    }
   ],
   "source": [
    "#Heroes Alignment\n",
    "alignment = data['Alignment'].value_counts()\n",
    "alignment.plot(kind = 'pie', title = 'Character Alignment')"
   ]
  },
  {
   "cell_type": "code",
   "execution_count": 13,
   "metadata": {},
   "outputs": [
    {
     "name": "stdout",
     "output_type": "stream",
     "text": [
      "0.5720958235612106\n"
     ]
    }
   ],
   "source": [
    "#Combat Correlation with Stregth\n",
    "\n",
    "sc_df = data[['Strength','Combat']].copy()\n",
    "sc_covariance = sc_df.cov().iloc[1,0]\n",
    "sc_strength = data['Strength'].std()\n",
    "sc_combat = data['Combat'].std()\n",
    "sc_pearson = sc_covariance/ (sc_strength * sc_combat)\n",
    "print(sc_pearson)"
   ]
  },
  {
   "cell_type": "code",
   "execution_count": 14,
   "metadata": {},
   "outputs": [
    {
     "name": "stdout",
     "output_type": "stream",
     "text": [
      "0.7821504525171137\n"
     ]
    }
   ],
   "source": [
    "#Combat Correlation with Intelligence\n",
    "\n",
    "ic_df = data[['Intelligence','Combat']].copy()\n",
    "ic_covariance = ic_df.cov().iloc[1,0]\n",
    "ic_intelligence = data['Intelligence'].std()\n",
    "ic_combat = data['Combat'].std()\n",
    "ic_pearson = ic_covariance/ (ic_intelligence * ic_combat)\n",
    "print(ic_pearson)"
   ]
  },
  {
   "cell_type": "code",
   "execution_count": 16,
   "metadata": {},
   "outputs": [
    {
     "name": "stdout",
     "output_type": "stream",
     "text": [
      "['Amazo', 'General Zod', 'Martian Manhunter', 'Stardust', 'Superboy-Prime', 'Superman']\n"
     ]
    }
   ],
   "source": [
    "#Overpowered Super Beings\n",
    "\n",
    "total_high = data['Total'].quantile(q=0.99)\n",
    "super_best = data[data['Total']>total_high]\n",
    "super_best_names = list(super_best['Name'])\n",
    "print(super_best_names)"
   ]
  },
  {
   "cell_type": "code",
   "execution_count": 17,
   "metadata": {},
   "outputs": [
    {
     "data": {
      "text/plain": [
       "<matplotlib.axes._subplots.AxesSubplot at 0x25f8806e978>"
      ]
     },
     "execution_count": 17,
     "metadata": {},
     "output_type": "execute_result"
    },
    {
     "data": {
      "image/png": "[encoded data removed]",
      "text/plain": [
       "<Figure size 720x720 with 3 Axes>"
      ]
     },
     "metadata": {},
     "output_type": "display_data"
    }
   ],
   "source": [
    "#box plot for Intelligence, speed and power of best superheroes\n",
    "fig ,(ax_1,ax_2,ax_3) = plt.subplots(1,3, figsize= (10,10))\n",
    "super_best['Intelligence'].plot.box(ax = ax_1, title = 'Intelligence', showfliers = True)\n",
    "super_best['Speed'].plot.box(ax = ax_2, title = 'Speed',showfliers = True)\n",
    "super_best['Power'].plot.box(ax = ax_3, title = 'Power',showfliers = True)"
   ]
  },
  {
   "cell_type": "markdown",
   "metadata": {},
   "source": [
    "So among all these three inspite of these attributes ranging from 0-100, best superheroes have very high range. \n",
    "* Also the intelligence attribute have less variance compared to speed and power."
   ]
  },
  {
   "cell_type": "markdown",
   "metadata": {},
   "source": [
    "##### After completing this project, you will have a better grip on the applications of descriptive statistics. In this project, you will be applying the following concepts:\n",
    "\n",
    "* Bar plotting\n",
    "* Boxplot plotting\n",
    "* Pie-chart plotting\n",
    "* Subplot operations\n",
    "* Feature Correlation\n",
    "* IQR operations"
   ]
  },
  {
   "cell_type": "code",
   "execution_count": null,
   "metadata": {},
   "outputs": [],
   "source": []
  }
 ],
 "metadata": {
  "kernelspec": {
   "display_name": "Python 3",
   "language": "python",
   "name": "python3"
  },
  "language_info": {
   "codemirror_mode": {
    "name": "ipython",
    "version": 3
   },
   "file_extension": ".py",
   "mimetype": "text/x-python",
   "name": "python",
   "nbconvert_exporter": "python",
   "pygments_lexer": "ipython3",
   "version": "3.5.5"
  }
 },
 "nbformat": 4,
 "nbformat_minor": 2
}
