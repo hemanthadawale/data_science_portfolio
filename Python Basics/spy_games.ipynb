{
 "cells": [
  {
   "cell_type": "markdown",
   "metadata": {},
   "source": [
    "# Project : Spy Games\n",
    "In this project, the task is to decipher a message received from the intelligence.\n",
    "\n",
    "Using intermediate Python skills to perform certain operations on the data and retrieve final message."
   ]
  },
  {
   "cell_type": "code",
   "execution_count": 5,
   "metadata": {},
   "outputs": [
    {
     "name": "stdout",
     "output_type": "stream",
     "text": [
      "This is a sample message\n"
     ]
    }
   ],
   "source": [
    "##File path for the sample file \n",
    "file_path = 'C:\\\\Users\\\\user\\\\Desktop\\\\Machine Learning\\\\data science portfolio\\\\Python Basics\\\\data\\\\file.txt' \n",
    "\n",
    "\n",
    "#function for reading files\n",
    "def read_file(path) :\n",
    "    file = open(path, 'r')\n",
    "    sentence = file.readline()\n",
    "    file.close()\n",
    "    return sentence\n",
    "\n",
    "sample_message = read_file(file_path)\n",
    "print(sample_message)\n"
   ]
  },
  {
   "cell_type": "code",
   "execution_count": 6,
   "metadata": {},
   "outputs": [
    {
     "name": "stdout",
     "output_type": "stream",
     "text": [
      "2222\n",
      "2477\n"
     ]
    }
   ],
   "source": [
    "# reading first 2 messages:\n",
    "file_path_1 = 'C:\\\\Users\\\\user\\\\Desktop\\\\Machine Learning\\\\data science portfolio\\\\Python Basics\\\\data\\\\file_1.txt'\n",
    "file_path_2 = 'C:\\\\Users\\\\user\\\\Desktop\\\\Machine Learning\\\\data science portfolio\\\\Python Basics\\\\data\\\\file_2.txt'\n",
    "message_1 = read_file(file_path_1)\n",
    "message_2 = read_file(file_path_2)\n",
    "print(message_1)\n",
    "print(message_2)"
   ]
  },
  {
   "cell_type": "code",
   "execution_count": 7,
   "metadata": {},
   "outputs": [
    {
     "name": "stdout",
     "output_type": "stream",
     "text": [
      "1\n"
     ]
    }
   ],
   "source": [
    "# Implementing integer(floor) division of message_b over message_a\n",
    "\n",
    "def fuse_msg(message_a, message_b) :\n",
    "    quotient = int(message_b) // int(message_a)\n",
    "    return str(quotient)\n",
    "\n",
    "secret_msg_1 = fuse_msg(message_1, message_2)\n",
    "print(secret_msg_1)"
   ]
  },
  {
   "cell_type": "code",
   "execution_count": 8,
   "metadata": {},
   "outputs": [
    {
     "name": "stdout",
     "output_type": "stream",
     "text": [
      "Hemant\n",
      "Data Scientist\n"
     ]
    }
   ],
   "source": [
    "# Decoding message 3:\n",
    "file_path_3 = 'C:\\\\Users\\\\user\\\\Desktop\\\\Machine Learning\\\\data science portfolio\\\\Python Basics\\\\data\\\\file_3.txt'\n",
    "message_3 = read_file(file_path_3)\n",
    "print(message_3)\n",
    "\n",
    "def substitute_msg(message_c) :\n",
    "    if message_c == 'Rushabh':\n",
    "        sub = 'Army General'\n",
    "    if message_3 == 'Hemant':\n",
    "        sub = 'Data Scientist'\n",
    "    if message_3 == 'Omkar':\n",
    "        sub = 'Marine Biologist'\n",
    "    return sub\n",
    "\n",
    "secret_msg_2 = substitute_msg(message_3)\n",
    "print(secret_msg_2)"
   ]
  },
  {
   "cell_type": "code",
   "execution_count": 10,
   "metadata": {},
   "outputs": [
    {
     "name": "stdout",
     "output_type": "stream",
     "text": [
      "I hope you are good now\n",
      "I hope good things happen in your life.\n",
      "['you', 'are', 'now']\n",
      "you are now\n"
     ]
    }
   ],
   "source": [
    "# File path for message 4  and message 5\n",
    "# Decoding message 4 & 5\n",
    "file_path_4 = 'C:\\\\Users\\\\user\\\\Desktop\\\\Machine Learning\\\\data science portfolio\\\\Python Basics\\\\data\\\\file_4.txt' \n",
    "file_path_5 = 'C:\\\\Users\\\\user\\\\Desktop\\\\Machine Learning\\\\data science portfolio\\\\Python Basics\\\\data\\\\file_5.txt' \n",
    "\n",
    "message_4 = read_file(file_path_4)\n",
    "message_5 = read_file(file_path_5)\n",
    "print(message_4)\n",
    "print(message_5)\n",
    "\n",
    "#comparing and taking only unique words from message 4\n",
    "def compare_msg(message_d, message_e) :\n",
    "    a_list = message_d.split()\n",
    "    b_list = message_e.split()\n",
    "    c_list = [i for i in a_list if not i in b_list]\n",
    "    print(c_list)\n",
    "    final_msg = \" \".join(c_list)\n",
    "    return final_msg\n",
    "\n",
    "secret_msg_3 = compare_msg(message_4, message_5)\n",
    "print(secret_msg_3)\n",
    "\n",
    "\n"
   ]
  },
  {
   "cell_type": "code",
   "execution_count": 11,
   "metadata": {},
   "outputs": [
    {
     "name": "stdout",
     "output_type": "stream",
     "text": [
      "The man was one step closer towards his quest to become a spy\n",
      "step closer to become\n"
     ]
    }
   ],
   "source": [
    "# another message 6\n",
    "file_path_6 = 'C:\\\\Users\\\\user\\\\Desktop\\\\Machine Learning\\\\data science portfolio\\\\Python Basics\\\\data\\\\file_6.txt' \n",
    "message_6 = read_file(file_path_6)\n",
    "print(message_6)\n",
    "\n",
    "def extract_msg(message_f):\n",
    "    a_list = message_f.split()                                   #splitting sentence to list of words\n",
    "    even_word = lambda x : (len(x) % 2 == 0)                     #condition to check even no. of letters in a word\n",
    "    b_list = list(filter(even_word, a_list))                     #filtering words divisible by 2 from list of words\n",
    "    final_msg = ' '.join(b_list)                                 #converting from list to sentence separated by space ' '\n",
    "    return final_msg\n",
    "\n",
    "secret_msg_4 = extract_msg(message_6)\n",
    "print(secret_msg_4)"
   ]
  },
  {
   "cell_type": "code",
   "execution_count": 12,
   "metadata": {},
   "outputs": [
    {
     "name": "stdout",
     "output_type": "stream",
     "text": [
      "you are now 1 step closer to become Data Scientist\n"
     ]
    }
   ],
   "source": [
    "#Secret message parts in the correct order\n",
    "message_parts=[secret_msg_3, secret_msg_1, secret_msg_4, secret_msg_2]\n",
    "\n",
    "final_path= 'C:\\\\Users\\\\user\\\\Desktop\\\\Machine Learning\\\\data science portfolio\\\\Python Basics\\\\data\\\\secret_message.txt'\n",
    "\n",
    "secret_msg = ' '.join(message_parts)\n",
    "\n",
    "def write_file(secret_msg, path):\n",
    "    f = open(path, 'a+')\n",
    "    f.write(secret_msg)\n",
    "    f.close()\n",
    "\n",
    "write_file(secret_msg, final_path)\n",
    "print(secret_msg)"
   ]
  },
  {
   "cell_type": "markdown",
   "metadata": {},
   "source": [
    "### This is my second basic python project\n",
    "Things i learnt:\n",
    "\n",
    "    1.String operations\n",
    "    2.Conditional statement and loops\n",
    "    3.File I/O\n",
    "    4.Functions"
   ]
  },
  {
   "cell_type": "code",
   "execution_count": null,
   "metadata": {},
   "outputs": [],
   "source": []
  }
 ],
 "metadata": {
  "kernelspec": {
   "display_name": "Python 3",
   "language": "python",
   "name": "python3"
  },
  "language_info": {
   "codemirror_mode": {
    "name": "ipython",
    "version": 3
   },
   "file_extension": ".py",
   "mimetype": "text/x-python",
   "name": "python",
   "nbconvert_exporter": "python",
   "pygments_lexer": "ipython3",
   "version": "3.7.0"
  }
 },
 "nbformat": 4,
 "nbformat_minor": 2
}
