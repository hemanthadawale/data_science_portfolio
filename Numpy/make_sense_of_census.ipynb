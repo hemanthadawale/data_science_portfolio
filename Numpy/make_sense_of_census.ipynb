{
 "cells": [
  {
   "cell_type": "markdown",
   "metadata": {},
   "source": [
    "# Project: Make Sense of Census \n",
    "census record management and data analysis"
   ]
  },
  {
   "cell_type": "code",
   "execution_count": 1,
   "metadata": {},
   "outputs": [],
   "source": [
    "# Importing header files\n",
    "import numpy as np"
   ]
  },
  {
   "cell_type": "code",
   "execution_count": 2,
   "metadata": {},
   "outputs": [],
   "source": [
    "# Storing path of the file in variable called 'path'\n",
    "path = 'C:\\\\Users\\\\user\\\\Desktop\\\\Machine Learning\\\\data science portfolio\\\\Python Basics\\\\data\\\\subset_1000.csv'"
   ]
  },
  {
   "cell_type": "code",
   "execution_count": 3,
   "metadata": {},
   "outputs": [
    {
     "name": "stdout",
     "output_type": "stream",
     "text": [
      "[[50, 9, 4, 1, 0, 0, 40, 0]]\n"
     ]
    }
   ],
   "source": [
    "#New record\n",
    "new_record=[[50,  9,  4,  1,  0,  0, 40,  0]]\n",
    "print(new_record)"
   ]
  },
  {
   "cell_type": "code",
   "execution_count": 4,
   "metadata": {},
   "outputs": [
    {
     "name": "stdout",
     "output_type": "stream",
     "text": [
      "\n",
      "data\n",
      "\n",
      " [[ 39.  13.   4. ...,   0.  40.   0.]\n",
      " [ 50.  13.   4. ...,   0.  13.   0.]\n",
      " [ 38.   9.   4. ...,   0.  40.   0.]\n",
      " ..., \n",
      " [ 48.  13.   4. ...,   0.  58.   1.]\n",
      " [ 40.  10.   4. ...,   0.  40.   0.]\n",
      " [ 39.  13.   4. ...,   0.  50.   1.]]\n",
      "\n",
      "type\n",
      "\n",
      " <class 'numpy.ndarray'>\n"
     ]
    }
   ],
   "source": [
    "# Loading data from csv file to numpy array\n",
    "data = np.genfromtxt(path, delimiter=',',skip_header =1)\n",
    "print('\\ndata\\n\\n', data)\n",
    "print('\\ntype\\n\\n', type(data))"
   ]
  },
  {
   "cell_type": "code",
   "execution_count": 5,
   "metadata": {},
   "outputs": [
    {
     "name": "stdout",
     "output_type": "stream",
     "text": [
      "[[ 39.  13.   4. ...,   0.  40.   0.]\n",
      " [ 50.  13.   4. ...,   0.  13.   0.]\n",
      " [ 38.   9.   4. ...,   0.  40.   0.]\n",
      " ..., \n",
      " [ 40.  10.   4. ...,   0.  40.   0.]\n",
      " [ 39.  13.   4. ...,   0.  50.   1.]\n",
      " [ 50.   9.   4. ...,   0.  40.   0.]]\n"
     ]
    }
   ],
   "source": [
    "# adding new record .i.e a new row at the bottom of the array\n",
    "census = np.concatenate((data,new_record), axis=0)\n",
    "print(census)"
   ]
  },
  {
   "cell_type": "code",
   "execution_count": 6,
   "metadata": {},
   "outputs": [
    {
     "name": "stdout",
     "output_type": "stream",
     "text": [
      "[ 39.  50.  38. ...,  40.  39.  50.]\n",
      "90.0\n",
      "17.0\n",
      "38.0629370629\n",
      "13.3414781762\n"
     ]
    }
   ],
   "source": [
    "#Performing simple analysis of the age distribution\n",
    "age = census[:,0]\n",
    "print(age)\n",
    "max_age = age.max()\n",
    "min_age = age.min()\n",
    "age_mean = age.mean()\n",
    "age_std = np.std(age)\n",
    "print(max_age)\n",
    "print(min_age)\n",
    "print(age_mean)\n",
    "print(age_std)"
   ]
  },
  {
   "cell_type": "code",
   "execution_count": 7,
   "metadata": {},
   "outputs": [
    {
     "name": "stdout",
     "output_type": "stream",
     "text": [
      "Race_0:  10\n",
      "Race_1:  27\n",
      "Race_2:  110\n",
      "Race_3:  6\n",
      "Race_4:  848\n"
     ]
    }
   ],
   "source": [
    "#Creating new subsets based on 'Age'\n",
    "race_0=census[census[:,2]==0]\n",
    "race_1=census[census[:,2]==1]\n",
    "race_2=census[census[:,2]==2]\n",
    "race_3=census[census[:,2]==3]\n",
    "race_4=census[census[:,2]==4]\n",
    "\n",
    "\n",
    "#Finding the length of the above created subsets\n",
    "len_0=len(race_0)\n",
    "len_1=len(race_1)\n",
    "len_2=len(race_2)\n",
    "len_3=len(race_3)\n",
    "len_4=len(race_4)\n",
    "\n",
    "#Printing the length of the above created subsets\n",
    "print('Race_0: ', len_0)\n",
    "print('Race_1: ', len_1)\n",
    "print('Race_2: ', len_2)\n",
    "print('Race_3: ', len_3)\n",
    "print('Race_4: ', len_4)\n"
   ]
  },
  {
   "cell_type": "code",
   "execution_count": 8,
   "metadata": {},
   "outputs": [
    {
     "name": "stdout",
     "output_type": "stream",
     "text": [
      "3\n"
     ]
    }
   ],
   "source": [
    "#Storing the different race lengths with appropriate indexes\n",
    "race_list=[len_0, len_1,len_2, len_3, len_4]\n",
    "\n",
    "#Storing the race with minimum length into a variable \n",
    "minority_race=race_list.index(min(race_list))\n",
    "print(minority_race)"
   ]
  },
  {
   "cell_type": "code",
   "execution_count": 9,
   "metadata": {},
   "outputs": [
    {
     "name": "stdout",
     "output_type": "stream",
     "text": [
      "31.4262295082\n"
     ]
    }
   ],
   "source": [
    "#Subsetting the array based on the age \n",
    "senior_citizens=census[census[:,0]>60]\n",
    "\n",
    "#Calculating the sum of all the values of array\n",
    "working_hours_sum=senior_citizens.sum(axis=0)[6]\n",
    "\n",
    "#Finding the length of the array\n",
    "senior_citizens_len=len(senior_citizens)\n",
    "\n",
    "#Finding the average working hours\n",
    "avg_working_hours=working_hours_sum/senior_citizens_len\n",
    "print((avg_working_hours))"
   ]
  },
  {
   "cell_type": "code",
   "execution_count": 10,
   "metadata": {
    "scrolled": true
   },
   "outputs": [
    {
     "name": "stdout",
     "output_type": "stream",
     "text": [
      "0.428134556575\n",
      "0.13649851632\n"
     ]
    }
   ],
   "source": [
    "#Creating an array based on 'education' column\n",
    "high=census[census[:,1]>10]\n",
    "low=census[census[:,1]<=10]\n",
    "\n",
    "#Finding the average pay\n",
    "avg_pay_high=high[:,7].mean()\n",
    "avg_pay_low=low[:,7].mean()\n",
    "print(avg_pay_high)\n",
    "print(avg_pay_low)"
   ]
  },
  {
   "cell_type": "code",
   "execution_count": 11,
   "metadata": {},
   "outputs": [
    {
     "name": "stdout",
     "output_type": "stream",
     "text": [
      "True\n"
     ]
    }
   ],
   "source": [
    "#Does better education leads to better pay?\n",
    "print(avg_pay_high > avg_pay_low)"
   ]
  },
  {
   "cell_type": "markdown",
   "metadata": {},
   "source": [
    "### Getting started with numpy\n",
    "Things i learnt:\n",
    "\n",
    "    Array Appending\n",
    "    Array Slicing\n",
    "    Array Filtering\n",
    "    Array Aggregation"
   ]
  },
  {
   "cell_type": "code",
   "execution_count": null,
   "metadata": {},
   "outputs": [],
   "source": []
  }
 ],
 "metadata": {
  "kernelspec": {
   "display_name": "Python 3",
   "language": "python",
   "name": "python3"
  },
  "language_info": {
   "codemirror_mode": {
    "name": "ipython",
    "version": 3
   },
   "file_extension": ".py",
   "mimetype": "text/x-python",
   "name": "python",
   "nbconvert_exporter": "python",
   "pygments_lexer": "ipython3",
   "version": "3.7.0"
  }
 },
 "nbformat": 4,
 "nbformat_minor": 2
}
